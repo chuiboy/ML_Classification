{
 "cells": [
  {
   "cell_type": "markdown",
   "metadata": {
    "collapsed": false
   },
   "source": [
    "### Machine Learning: Classification\n",
    "___\n",
    "\n",
    "#### Summary:\n",
    "\n",
    "Classification is a supervised learning problem in which the goal is to have an algorithm that can take in a new example and correctly classify it as one of K categories where K is a discrete finite number. There are many different algorithms that can be used to solve the classification problem. In this notebook we will apply some of these algorithms. We will not derive any of these algorithms ourselves but will instead use prebuilt functions from the sklearn library.\n",
    "___\n",
    "#### This notebook will include:\n",
    "1. Logistic Regression\n",
    "2. Naive Bayes\n",
    "3. K-Nearest Neighbors\n",
    "4. Support Vector Machine\n",
    "5. Decision Tree Classification\n",
    "6. Random Forest Classification\n",
    "___\n",
    "#### Reference: \n",
    "\n",
    "Much of what is in this notebook was learned from the Classification section of the Udemy course \"Machine Learning: A-Z\" by Kirill Eremenko. "
   ]
  },
  {
   "cell_type": "code",
   "execution_count": 2,
   "metadata": {
    "collapsed": false
   },
   "outputs": [
    {
     "name": "stdout",
     "output_type": "stream",
     "text": [
      "X_train: (42, 2)\n",
      "X_test: (6, 2)\n",
      "y_train: (42,)\n",
      "y_test: (6,)\n"
     ]
    },
    {
     "data": {
      "image/png": "[encoded data removed]",
      "text/plain": [
       "<matplotlib.figure.Figure at 0x169d0828>"
      ]
     },
     "metadata": {},
     "output_type": "display_data"
    }
   ],
   "source": [
    "# Example Dataset\n",
    "\"\"\"\n",
    "The dataset that will be used for this notebook consists of 42 training examples and 6 test examples where\n",
    "the input contains 2 features. Often inputs will have more features but for this example dataset we use 2 \n",
    "because it is easier to visualize. There are only 2 classes for this dataset, which means that examples \n",
    "within the dataset can only take on 1 of 2 possible output values.\n",
    "\"\"\"\n",
    "# Importing the libraries\n",
    "import numpy as np\n",
    "import matplotlib.pyplot as plt\n",
    "%matplotlib inline\n",
    "\n",
    "# Creating the dataset\n",
    "X_train = np.array([[0.4,2.0],[0.7,1.0],[0.8,3.0],[0.9,1.5],[1.0,5.0],[1.1,3.0],[1.3,4.2],[1.5,1.3],[1.5,3.5],\n",
    "                    [1.8,2.0],[2.0,5.7],[2.1,2.1],[2.1,5.0],[2.1,3.7],[2.5,1.8],[2.5,2.5],[2.5,5.0],[2.5,4.0],\n",
    "                    [2.7,5.0],[3.0,2.5],[3.0,4.0],[3.1,6.0],[3.4,2.0],[3.5,3.5],[3.5,4.8],[3.6,1.7],[3.8,5.5],\n",
    "                    [3.9,2.4],[4.0,2.0],[4.0,3.7],[4.1,3.5],[4.4,2.0],[4.4,4.1],[4.8,2.1],[4.8,5.0],[5.0,3.2],\n",
    "                    [5.0,4.0],[5.1,1.1],[5.5,2.6],[5.5,5.6],[5.8,3.1],[6.0,4.2]])\n",
    "y_train = np.array([1,0,1,0,1,1,1,0,1,0,1,0,1,1,0,0,1,0,1,0,1,1,0,0,1,0,1,0,0,1,0,0,0,0,0,0,0,0,0,0,0,0])\n",
    "X_test = np.array([[2.3,3.7],[4.0,6.0],[1.0,3.5],[2.1,1.7],[3.0,2.1],[5.0,4.2]])\n",
    "y_test = np.array([1,1,1,0,0,0])\n",
    "\n",
    "# Printing the dataset shape\n",
    "print('X_train:', X_train.shape)\n",
    "print('X_test:', X_test.shape)\n",
    "print('y_train:', y_train.shape)\n",
    "print('y_test:', y_test.shape)\n",
    "\n",
    "# Plotting the dataset\n",
    "plt.plot(X_train[y_train==0, 0], X_train[y_train==0, 1], 'ro', label = 'y = 0')\n",
    "plt.plot(X_train[y_train==1, 0], X_train[y_train==1, 1], 'bo', label = 'y = 1')\n",
    "\n",
    "plt.title('Dataset')\n",
    "plt.xlabel('X1')\n",
    "plt.ylabel('X2')\n",
    "plt.legend()\n",
    "plt.show()"
   ]
  },
  {
   "cell_type": "code",
   "execution_count": 3,
   "metadata": {
    "collapsed": false
   },
   "outputs": [
    {
     "name": "stdout",
     "output_type": "stream",
     "text": [
      "Prediction on test set: [1 1 1 0 0 0]\n"
     ]
    },
    {
     "data": {
      "image/png": "[encoded data removed]",
      "text/plain": [
       "<matplotlib.figure.Figure at 0x16aab518>"
      ]
     },
     "metadata": {},
     "output_type": "display_data"
    }
   ],
   "source": [
    "# Logistic Regression\n",
    "\"\"\"\n",
    "The Logistic Regression Model is similar to the linear regression model in that it takes in a weighted \n",
    "sum of the input features plus a bias. It is different in that it applies a nonlinearity (sigmoid \n",
    "function) to this weighted sum before calculating the loss, and the loss function is the logistic loss\n",
    "instead of the mean-squared error loss.\n",
    "\"\"\"\n",
    "# Importing the libraries\n",
    "import numpy as np\n",
    "import matplotlib.pyplot as plt\n",
    "%matplotlib inline\n",
    "\n",
    "# Creating and fitting the logistic regression model to the training set\n",
    "from sklearn.linear_model import LogisticRegression\n",
    "classifier = LogisticRegression()\n",
    "classifier.fit(X_train, y_train)\n",
    "\n",
    "# Predicting the test set results\n",
    "y_pred = classifier.predict(X_test)\n",
    "print('Prediction on test set:', y_pred)\n",
    "\n",
    "# Plotting the Logistic Regression boundary\n",
    "from matplotlib.colors import ListedColormap\n",
    "plt.plot(X_train[y_train==0, 0], X_train[y_train==0, 1], 'ro', label = 'y = 0')\n",
    "plt.plot(X_train[y_train==1, 0], X_train[y_train==1, 1], 'bo', label = 'y = 1')\n",
    "X_grid_1 = np.linspace(min(X_train[:,0])-1, max(X_train[:,0])+1, 1000)\n",
    "X_grid_2 = np.linspace(min(X_train[:,1])-1, max(X_train[:,1])+1, 1000)\n",
    "X_grid_1, X_grid_2 = np.meshgrid(X_grid_1, X_grid_2)\n",
    "y_grid = classifier.predict(np.c_[X_grid_1.ravel(), X_grid_2.ravel()])\n",
    "\n",
    "plt.contourf(X_grid_1, X_grid_2, y_grid.reshape(X_grid_1.shape), \n",
    "             alpha = 0.2, cmap = ListedColormap(('red', 'blue')))\n",
    "plt.title('Logistic Regression')\n",
    "plt.xlabel('X1')\n",
    "plt.ylabel('X2')\n",
    "plt.legend()\n",
    "plt.show()\n"
   ]
  },
  {
   "cell_type": "code",
   "execution_count": 4,
   "metadata": {
    "collapsed": false
   },
   "outputs": [
    {
     "name": "stdout",
     "output_type": "stream",
     "text": [
      "Prediction on test set: [1 1 1 0 0 0]\n"
     ]
    },
    {
     "data": {
      "image/png": "[encoded data removed]",
      "text/plain": [
       "<matplotlib.figure.Figure at 0x18ebe4a8>"
      ]
     },
     "metadata": {},
     "output_type": "display_data"
    }
   ],
   "source": [
    "# Naive Bayes\n",
    "\"\"\"\n",
    "The Naive Bayes classifier uses rules of probability to predict which label to assign to a new example. \n",
    "Specifically, it uses Bayes Rule to predict an output label given a new example. It is important to \n",
    "note that the classifier assumes that the features of an example are independent.\n",
    "\"\"\"\n",
    "# Importing the libraries\n",
    "import numpy as np\n",
    "import matplotlib.pyplot as plt\n",
    "%matplotlib inline\n",
    "\n",
    "# Preprocessing: Feature scaling and normalization\n",
    "from sklearn.preprocessing import StandardScaler\n",
    "scaler_X = StandardScaler()\n",
    "X_train_scaled = scaler_X.fit_transform(X_train)\n",
    "X_test_scaled = scaler_X.transform(X_test)\n",
    "\n",
    "# Creating and fitting the Naive Bayes model to the training set\n",
    "from sklearn.naive_bayes import GaussianNB\n",
    "classifier = GaussianNB()\n",
    "classifier.fit(X_train_scaled, y_train)\n",
    "\n",
    "# Predicting the test set results\n",
    "y_pred = classifier.predict(X_test_scaled)\n",
    "print('Prediction on test set:', y_pred)\n",
    "\n",
    "# Plotting the Naive Bayes classification boundary\n",
    "from matplotlib.colors import ListedColormap\n",
    "plt.plot(X_train_scaled[y_train==0, 0], X_train_scaled[y_train==0, 1], 'ro', label = 'y = 0')\n",
    "plt.plot(X_train_scaled[y_train==1, 0], X_train_scaled[y_train==1, 1], 'bo', label = 'y = 1')\n",
    "X_grid_1 = np.linspace(min(X_train_scaled[:,0])-1, max(X_train_scaled[:,0])+1, 1000)\n",
    "X_grid_2 = np.linspace(min(X_train_scaled[:,1])-1, max(X_train_scaled[:,1])+1, 1000)\n",
    "X_grid_1, X_grid_2 = np.meshgrid(X_grid_1, X_grid_2)\n",
    "y_grid = classifier.predict(np.c_[X_grid_1.ravel(), X_grid_2.ravel()])\n",
    "\n",
    "plt.contourf(X_grid_1, X_grid_2, y_grid.reshape(X_grid_1.shape), \n",
    "             alpha = 0.2, cmap = ListedColormap(('red', 'blue')))\n",
    "plt.title('Naive Bayes Classification')\n",
    "plt.xlabel('X1')\n",
    "plt.ylabel('X2')\n",
    "plt.legend()\n",
    "plt.show()"
   ]
  },
  {
   "cell_type": "code",
   "execution_count": 5,
   "metadata": {
    "collapsed": false
   },
   "outputs": [
    {
     "name": "stdout",
     "output_type": "stream",
     "text": [
      "Prediction on test set: [1 1 1 0 0 0]\n"
     ]
    },
    {
     "data": {
      "image/png": "[encoded data removed]",
      "text/plain": [
       "<matplotlib.figure.Figure at 0x16871e10>"
      ]
     },
     "metadata": {},
     "output_type": "display_data"
    }
   ],
   "source": [
    "# K-Nearest Neighbor\n",
    "\"\"\"\n",
    "The K-Nearest Neighbor classifier is a relatively simple algorithm. For any new example, the classifier\n",
    "finds the K nearest training examples to it. Of these K training examples, the classifier looks at \n",
    "their labels and then assigns the most common label among them to the new example. \n",
    "\"\"\"\n",
    "# Importing the libraries\n",
    "import numpy as np\n",
    "import matplotlib.pyplot as plt\n",
    "%matplotlib inline\n",
    "\n",
    "# Preprocessing: Feature scaling and normalization\n",
    "from sklearn.preprocessing import StandardScaler\n",
    "scaler_X = StandardScaler()\n",
    "X_train_scaled = scaler_X.fit_transform(X_train)\n",
    "X_test_scaled = scaler_X.transform(X_test)\n",
    "\n",
    "# Creating and fitting the K-NN model to the training set\n",
    "from sklearn.neighbors import KNeighborsClassifier\n",
    "classifier = KNeighborsClassifier(n_neighbors = 5)\n",
    "classifier.fit(X_train_scaled, y_train)\n",
    "\n",
    "# Predicting the test set results\n",
    "y_pred = classifier.predict(X_test_scaled)\n",
    "print('Prediction on test set:', y_pred)\n",
    "\n",
    "# Plotting the K-NN classification boundary\n",
    "from matplotlib.colors import ListedColormap\n",
    "plt.plot(X_train_scaled[y_train==0, 0], X_train_scaled[y_train==0, 1], 'ro', label = 'y = 0')\n",
    "plt.plot(X_train_scaled[y_train==1, 0], X_train_scaled[y_train==1, 1], 'bo', label = 'y = 1')\n",
    "X_grid_1 = np.linspace(min(X_train_scaled[:,0])-1, max(X_train_scaled[:,0])+1, 1000)\n",
    "X_grid_2 = np.linspace(min(X_train_scaled[:,1])-1, max(X_train_scaled[:,1])+1, 1000)\n",
    "X_grid_1, X_grid_2 = np.meshgrid(X_grid_1, X_grid_2)\n",
    "y_grid = classifier.predict(np.c_[X_grid_1.ravel(), X_grid_2.ravel()])\n",
    "\n",
    "plt.contourf(X_grid_1, X_grid_2, y_grid.reshape(X_grid_1.shape), \n",
    "             alpha = 0.2, cmap = ListedColormap(('red', 'blue')))\n",
    "plt.title('K-NN Classification')\n",
    "plt.xlabel('X1')\n",
    "plt.ylabel('X2')\n",
    "plt.legend()\n",
    "plt.show()\n"
   ]
  },
  {
   "cell_type": "code",
   "execution_count": 6,
   "metadata": {
    "collapsed": false
   },
   "outputs": [
    {
     "name": "stdout",
     "output_type": "stream",
     "text": [
      "Prediction on test set: [1 1 1 0 0 0]\n"
     ]
    },
    {
     "data": {
      "image/png": "[encoded data removed]",
      "text/plain": [
       "<matplotlib.figure.Figure at 0x1c53e748>"
      ]
     },
     "metadata": {},
     "output_type": "display_data"
    }
   ],
   "source": [
    "# Support Vector Machine w/ Linear Kernel\n",
    "\"\"\"\n",
    "The SVM model (with a linear kernel) is very similar to the logistic regression model, but instead\n",
    "of minimizing the logistic loss to find the parameters, it minimizes the hinge loss. The hyperparameter\n",
    "'C' is the regularization term. Increasing it will make the model fit to the training data well but may\n",
    "cause overfitting.\n",
    "\"\"\"\n",
    "# Importing the libraries\n",
    "import numpy as np\n",
    "import matplotlib.pyplot as plt\n",
    "%matplotlib inline\n",
    "\n",
    "# Preprocessing: Feature scaling and normalization\n",
    "from sklearn.preprocessing import StandardScaler\n",
    "scaler_X = StandardScaler()\n",
    "X_train_scaled = scaler_X.fit_transform(X_train)\n",
    "X_test_scaled = scaler_X.transform(X_test)\n",
    "\n",
    "# Creating and fitting the SVM (linear) model to the training set\n",
    "from sklearn.svm import SVC\n",
    "classifier = SVC(C = 1, kernel = 'linear')\n",
    "classifier.fit(X_train_scaled, y_train)\n",
    "\n",
    "# Predicting the test set results\n",
    "y_pred = classifier.predict(X_test_scaled)\n",
    "print('Prediction on test set:', y_pred)\n",
    "\n",
    "# Plotting the SVM (linear) boundary\n",
    "from matplotlib.colors import ListedColormap\n",
    "plt.plot(X_train_scaled[y_train==0, 0], X_train_scaled[y_train==0, 1], 'ro', label = 'y = 0')\n",
    "plt.plot(X_train_scaled[y_train==1, 0], X_train_scaled[y_train==1, 1], 'bo', label = 'y = 1')\n",
    "X_grid_1 = np.linspace(min(X_train_scaled[:,0])-1, max(X_train_scaled[:,0])+1, 1000)\n",
    "X_grid_2 = np.linspace(min(X_train_scaled[:,1])-1, max(X_train_scaled[:,1])+1, 1000)\n",
    "X_grid_1, X_grid_2 = np.meshgrid(X_grid_1, X_grid_2)\n",
    "y_grid = classifier.predict(np.c_[X_grid_1.ravel(), X_grid_2.ravel()])\n",
    "\n",
    "plt.contourf(X_grid_1, X_grid_2, y_grid.reshape(X_grid_1.shape), alpha = 0.2, cmap = ListedColormap(('red', 'blue')))\n",
    "plt.title('SVM (linear) Classification')\n",
    "plt.xlabel('X1')\n",
    "plt.ylabel('X2')\n",
    "plt.legend()\n",
    "plt.show()"
   ]
  },
  {
   "cell_type": "code",
   "execution_count": 11,
   "metadata": {
    "collapsed": false
   },
   "outputs": [
    {
     "name": "stdout",
     "output_type": "stream",
     "text": [
      "Prediction on test set: [1 1 1 0 0 0]\n"
     ]
    },
    {
     "data": {
      "image/png": "[encoded data removed]",
      "text/plain": [
       "<matplotlib.figure.Figure at 0x1c08e278>"
      ]
     },
     "metadata": {},
     "output_type": "display_data"
    }
   ],
   "source": [
    "# Support Vector Machine w/ Gaussian Kernel\n",
    "\"\"\"\n",
    "The SVM model (with a Gaussian rbf kernel) takes all training examples into consideration when \n",
    "predicting the label for a new example; training examples that are closer to the new example are\n",
    "given more weight than training examples further away. This difference in weight between closer and\n",
    "further training examples can be controlled by the hyperparameter 'C'. \n",
    "\"\"\"\n",
    "# Importing the libraries\n",
    "import numpy as np\n",
    "import matplotlib.pyplot as plt\n",
    "%matplotlib inline\n",
    "\n",
    "# Preprocessing: Feature scaling and normalization\n",
    "from sklearn.preprocessing import StandardScaler\n",
    "scaler_X = StandardScaler()\n",
    "X_train_scaled = scaler_X.fit_transform(X_train)\n",
    "X_test_scaled = scaler_X.transform(X_test)\n",
    "\n",
    "# Creating and fitting the SVM model to the training set\n",
    "from sklearn.svm import SVC\n",
    "classifier = SVC(C = 1, kernel = 'rbf')\n",
    "classifier.fit(X_train_scaled, y_train)\n",
    "\n",
    "# Predicting the test set results\n",
    "y_pred = classifier.predict(X_test_scaled)\n",
    "print('Prediction on test set:', y_pred)\n",
    "\n",
    "# Plotting the SVM (rbf) boundary\n",
    "from matplotlib.colors import ListedColormap\n",
    "plt.plot(X_train_scaled[y_train==0, 0], X_train_scaled[y_train==0, 1], 'ro', label = 'y = 0')\n",
    "plt.plot(X_train_scaled[y_train==1, 0], X_train_scaled[y_train==1, 1], 'bo', label = 'y = 1')\n",
    "X_grid_1 = np.linspace(min(X_train_scaled[:,0])-1, max(X_train_scaled[:,0])+1, 1000)\n",
    "X_grid_2 = np.linspace(min(X_train_scaled[:,1])-1, max(X_train_scaled[:,1])+1, 1000)\n",
    "X_grid_1, X_grid_2 = np.meshgrid(X_grid_1, X_grid_2)\n",
    "y_grid = classifier.predict(np.c_[X_grid_1.ravel(), X_grid_2.ravel()])\n",
    "\n",
    "plt.contourf(X_grid_1, X_grid_2, y_grid.reshape(X_grid_1.shape), \n",
    "             alpha = 0.2, cmap = ListedColormap(('red', 'blue')))\n",
    "plt.title('SVM (rbf) Classification')\n",
    "plt.xlabel('X1')\n",
    "plt.ylabel('X2')\n",
    "plt.legend()\n",
    "plt.show()"
   ]
  },
  {
   "cell_type": "code",
   "execution_count": 12,
   "metadata": {
    "collapsed": false
   },
   "outputs": [
    {
     "name": "stdout",
     "output_type": "stream",
     "text": [
      "Prediction on test set: [1 1 1 0 0 0]\n"
     ]
    },
    {
     "data": {
      "image/png": "[encoded data removed]",
      "text/plain": [
       "<matplotlib.figure.Figure at 0x18eb44a8>"
      ]
     },
     "metadata": {},
     "output_type": "display_data"
    }
   ],
   "source": [
    "# Decision Tree Classification\n",
    "\"\"\"\n",
    "The Decision Tree Classification model separates the training set into sections that best split the \n",
    "data. Any new example must fall into one of these sections and its predicted label is set to be the \n",
    "label that is most common among the training examples within that section.\n",
    "\"\"\"\n",
    "# Importing the libraries\n",
    "import numpy as np\n",
    "import matplotlib.pyplot as plt\n",
    "%matplotlib inline\n",
    "\n",
    "# Creating and fitting the decision tree model to the training set\n",
    "from sklearn.tree import DecisionTreeClassifier\n",
    "classifier = DecisionTreeClassifier()\n",
    "classifier.fit(X_train, y_train)\n",
    "\n",
    "# Predicting the test set results\n",
    "y_pred = classifier.predict(X_test)\n",
    "print('Prediction on test set:', y_pred)\n",
    "\n",
    "# Plotting the Decision Tree classification boundary\n",
    "from matplotlib.colors import ListedColormap\n",
    "plt.plot(X_train[y_train==0, 0], X_train[y_train==0, 1], 'ro', label = 'y = 0')\n",
    "plt.plot(X_train[y_train==1, 0], X_train[y_train==1, 1], 'bo', label = 'y = 1')\n",
    "X_grid_1 = np.linspace(min(X_train[:,0])-1, max(X_train[:,0])+1, 1000)\n",
    "X_grid_2 = np.linspace(min(X_train[:,1])-1, max(X_train[:,1])+1, 1000)\n",
    "X_grid_1, X_grid_2 = np.meshgrid(X_grid_1, X_grid_2)\n",
    "y_grid = classifier.predict(np.c_[X_grid_1.ravel(), X_grid_2.ravel()])\n",
    "\n",
    "plt.contourf(X_grid_1, X_grid_2, y_grid.reshape(X_grid_1.shape), \n",
    "             alpha = 0.2, cmap = ListedColormap(('red', 'blue')))\n",
    "plt.title('Decision Tree Classification')\n",
    "plt.xlabel('X1')\n",
    "plt.ylabel('X2')\n",
    "plt.legend()\n",
    "plt.show()"
   ]
  },
  {
   "cell_type": "code",
   "execution_count": 13,
   "metadata": {
    "collapsed": false
   },
   "outputs": [
    {
     "name": "stdout",
     "output_type": "stream",
     "text": [
      "Prediction on test set: [1 1 1 0 0 0]\n"
     ]
    },
    {
     "data": {
      "image/png": "[encoded data removed]",
      "text/plain": [
       "<matplotlib.figure.Figure at 0x1c538550>"
      ]
     },
     "metadata": {},
     "output_type": "display_data"
    }
   ],
   "source": [
    "# Random Forest Classification\n",
    "\"\"\"\n",
    "The random forest classifier takes a random subset of the training examples and then performs the \n",
    "decision tree classifier on it. It does this many times, each with a different subset of training\n",
    "examples. For any new example, there will be a label prediction for each one of these Decision \n",
    "Trees. The predicted label for the Random Forest Regression model is set to be the most common\n",
    "label among the Decision Tree labels.\n",
    "\"\"\"\n",
    "# Importing the libraries\n",
    "import numpy as np\n",
    "import matplotlib.pyplot as plt\n",
    "%matplotlib inline\n",
    "\n",
    "# Creating and fitting the Random Forest model to the training set\n",
    "from sklearn.ensemble import RandomForestClassifier\n",
    "classifier = RandomForestClassifier(n_estimators = 20) #n_estimators = number of trees\n",
    "classifier.fit(X_train, y_train)\n",
    "\n",
    "# Predicting the test set results\n",
    "y_pred = classifier.predict(X_test)\n",
    "print('Prediction on test set:', y_pred)\n",
    "\n",
    "# Plotting the Random Forest classification boundary\n",
    "from matplotlib.colors import ListedColormap\n",
    "plt.plot(X_train[y_train==0, 0], X_train[y_train==0, 1], 'ro', label = 'y = 0')\n",
    "plt.plot(X_train[y_train==1, 0], X_train[y_train==1, 1], 'bo', label = 'y = 1')\n",
    "X_grid_1 = np.linspace(min(X_train[:,0])-1, max(X_train[:,0])+1, 1000)\n",
    "X_grid_2 = np.linspace(min(X_train[:,1])-1, max(X_train[:,1])+1, 1000)\n",
    "X_grid_1, X_grid_2 = np.meshgrid(X_grid_1, X_grid_2)\n",
    "y_grid = classifier.predict(np.c_[X_grid_1.ravel(), X_grid_2.ravel()])\n",
    "\n",
    "plt.contourf(X_grid_1, X_grid_2, y_grid.reshape(X_grid_1.shape), \n",
    "             alpha = 0.2, cmap = ListedColormap(('red', 'blue')))\n",
    "plt.title('Random Forest Classification')\n",
    "plt.xlabel('X1')\n",
    "plt.ylabel('X2')\n",
    "plt.legend()\n",
    "plt.show()"
   ]
  },
  {
   "cell_type": "code",
   "execution_count": null,
   "metadata": {
    "collapsed": true
   },
   "outputs": [],
   "source": []
  }
 ],
 "metadata": {
  "kernelspec": {
   "display_name": "Python 3",
   "language": "python",
   "name": "python3"
  },
  "language_info": {
   "codemirror_mode": {
    "name": "ipython",
    "version": 3
   },
   "file_extension": ".py",
   "mimetype": "text/x-python",
   "name": "python",
   "nbconvert_exporter": "python",
   "pygments_lexer": "ipython3",
   "version": "3.5.4"
  }
 },
 "nbformat": 4,
 "nbformat_minor": 0
}
